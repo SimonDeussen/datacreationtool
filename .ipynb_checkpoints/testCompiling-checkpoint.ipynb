{
 "cells": [
  {
   "cell_type": "code",
   "execution_count": 9,
   "metadata": {},
   "outputs": [],
   "source": [
    "from assets.TokenBuilder import *\n",
    "from assets.Element import *\n",
    "import json\n",
    "from os import getcwd\n",
    "from os.path import isfile, join\n",
    "from os import listdir\n"
   ]
  },
  {
   "cell_type": "code",
   "execution_count": 19,
   "metadata": {},
   "outputs": [],
   "source": [
    "def getTokenListFromFile(filepath):\n",
    "    with open(filepath) as data_file:\n",
    "        tokenString = data_file.read()\n",
    "    \n",
    "    raw = tokenString.split(\"\\n\")\n",
    "\n",
    "    splitted_elements = []\n",
    "    for raw_element in raw:\n",
    "        if len(raw_element) > 0:        \n",
    "            if raw_element.find(\" \") > -1:\n",
    "                elements = raw_element.split(\" \")\n",
    "                splitted_elements.extend(elements)\n",
    "            else:\n",
    "                splitted_elements.append(raw_element)     \n",
    "\n",
    "    processed = []\n",
    "    for element in splitted_elements:\n",
    "        if element != \"\":\n",
    "            if element.find(\",\") > -1:\n",
    "                element = element.replace(\",\", \"\")\n",
    "\n",
    "            processed.append(element)\n",
    "    \n",
    "    return processed\n",
    "\n",
    "def createElementsFromTokenList(token_list):\n",
    "    token_list.reverse()\n",
    "\n",
    "    root = Element(token_list.pop(), \"\")\n",
    "    currentPointer = len(token_list) -1\n",
    "    parentStack = []\n",
    "\n",
    "    lastElement = root\n",
    "\n",
    "    while len(token_list) > 0:\n",
    "\n",
    "        if token_list[-1] == \"{\":\n",
    "            parentStack.append(lastElement)\n",
    "            token_list.pop()\n",
    "\n",
    "        elif token_list[-1] == \"}\":\n",
    "            parentStack.pop()\n",
    "            token_list.pop()\n",
    "\n",
    "        else:\n",
    "            new_element = Element(token_list.pop(), \"\")\n",
    "            parentStack[-1].addChildren(new_element)\n",
    "            lastElement = new_element\n",
    "\n",
    "    return root\n",
    "\n",
    "def testConversation(path):\n",
    "    with open(path) as data_file:\n",
    "        tokenString = data_file.read()\n",
    "\n",
    "    token_list = getTokenListFromFile(path)  \n",
    "\n",
    "    try:\n",
    "        rootNode = createElementsFromTokenList(token_list)\n",
    "    except:\n",
    "        print(path)\n",
    "        return False\n",
    "    \n",
    "    \n",
    "    rootNodeString = rootNode.toString2()\n",
    "    \n",
    "    if tokenString == rootNodeString:\n",
    "        return True\n",
    "    else:\n",
    "        return False  \n",
    "        "
   ]
  },
  {
   "cell_type": "code",
   "execution_count": 20,
   "metadata": {},
   "outputs": [],
   "source": [
    "path =  getcwd() + \"/token/\"\n",
    "onlyfiles = [f for f in listdir(path) if isfile(join(path, f))]"
   ]
  },
  {
   "cell_type": "code",
   "execution_count": 21,
   "metadata": {},
   "outputs": [],
   "source": [
    "incorrects = []\n",
    "for file in onlyfiles:\n",
    "    if not testConversation(\"token/\" + file):\n",
    "        incorrects.append(file)"
   ]
  },
  {
   "cell_type": "code",
   "execution_count": 22,
   "metadata": {},
   "outputs": [
    {
     "data": {
      "text/plain": [
       "['.gitignore']"
      ]
     },
     "execution_count": 22,
     "metadata": {},
     "output_type": "execute_result"
    }
   ],
   "source": [
    "incorrects"
   ]
  },
  {
   "cell_type": "code",
   "execution_count": null,
   "metadata": {},
   "outputs": [],
   "source": []
  }
 ],
 "metadata": {
  "kernelspec": {
   "display_name": "Python 3",
   "language": "python",
   "name": "python3"
  },
  "language_info": {
   "codemirror_mode": {
    "name": "ipython",
    "version": 3
   },
   "file_extension": ".py",
   "mimetype": "text/x-python",
   "name": "python",
   "nbconvert_exporter": "python",
   "pygments_lexer": "ipython3",
   "version": "3.5.2"
  }
 },
 "nbformat": 4,
 "nbformat_minor": 2
}

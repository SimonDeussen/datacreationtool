{
 "cells": [
  {
   "cell_type": "code",
   "execution_count": 1,
   "metadata": {},
   "outputs": [],
   "source": [
    "from assets.TokenBuilder import *\n",
    "from assets.Element import *\n",
    "import json"
   ]
  },
  {
   "cell_type": "code",
   "execution_count": 2,
   "metadata": {},
   "outputs": [],
   "source": [
    "def getTokenListFromFile(filepath):\n",
    "    with open(filepath) as data_file:\n",
    "        tokenString = data_file.read()\n",
    "    \n",
    "    raw = tokenString.split(\"\\n\")\n",
    "\n",
    "    splitted_elements = []\n",
    "    for raw_element in raw:\n",
    "        if len(raw_element) > 0:        \n",
    "            if raw_element.find(\" \") > -1:\n",
    "                elements = raw_element.split(\" \")\n",
    "                splitted_elements.extend(elements)\n",
    "            else:\n",
    "                splitted_elements.append(raw_element)     \n",
    "\n",
    "    processed = []\n",
    "    for element in splitted_elements:\n",
    "        if element != \"\":\n",
    "            if element.find(\",\") > -1:\n",
    "                element = element.replace(\",\", \"\")\n",
    "\n",
    "            processed.append(element)\n",
    "    \n",
    "    return processed"
   ]
  },
  {
   "cell_type": "code",
   "execution_count": 8,
   "metadata": {},
   "outputs": [],
   "source": [
    "token_list = getTokenListFromFile(\"token/complete_generation_99_04.10.2018_1538640301497.gui\")  "
   ]
  },
  {
   "cell_type": "code",
   "execution_count": null,
   "metadata": {},
   "outputs": [],
   "source": [
    "root = Element(body, \"\")\n",
    "for token in token_list:\n",
    "    if token == \"body\":\n",
    "        root = \n",
    "        currentParent = root\n",
    "    \n"
   ]
  },
  {
   "cell_type": "code",
   "execution_count": 11,
   "metadata": {},
   "outputs": [],
   "source": [
    "a = token_list.reverse()"
   ]
  },
  {
   "cell_type": "code",
   "execution_count": 13,
   "metadata": {},
   "outputs": [
    {
     "data": {
      "text/plain": [
       "['}',\n",
       " '}',\n",
       " '}',\n",
       " 'btn-inactive-black',\n",
       " 'text',\n",
       " 'small-title',\n",
       " '{',\n",
       " 'double',\n",
       " '}',\n",
       " 'btn-inactive-grey',\n",
       " 'text',\n",
       " 'small-title',\n",
       " '{',\n",
       " 'quadruple',\n",
       " '}',\n",
       " 'btn-inactive-grey',\n",
       " 'text',\n",
       " 'small-title',\n",
       " '{',\n",
       " 'quadruple',\n",
       " '{',\n",
       " 'row',\n",
       " '}',\n",
       " 'btn-inactive-white',\n",
       " 'btn-inactive-white',\n",
       " 'btn-inactive-white',\n",
       " 'logo-right',\n",
       " '{',\n",
       " 'header',\n",
       " '{',\n",
       " 'body']"
      ]
     },
     "execution_count": 13,
     "metadata": {},
     "output_type": "execute_result"
    }
   ],
   "source": [
    "token_list"
   ]
  },
  {
   "cell_type": "code",
   "execution_count": null,
   "metadata": {},
   "outputs": [],
   "source": []
  }
 ],
 "metadata": {
  "kernelspec": {
   "display_name": "Python 3",
   "language": "python",
   "name": "python3"
  },
  "language_info": {
   "codemirror_mode": {
    "name": "ipython",
    "version": 3
   },
   "file_extension": ".py",
   "mimetype": "text/x-python",
   "name": "python",
   "nbconvert_exporter": "python",
   "pygments_lexer": "ipython3",
   "version": "3.5.2"
  }
 },
 "nbformat": 4,
 "nbformat_minor": 2
}

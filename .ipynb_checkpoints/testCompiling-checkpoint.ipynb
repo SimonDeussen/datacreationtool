{
 "cells": [
  {
   "cell_type": "code",
   "execution_count": 17,
   "metadata": {},
   "outputs": [],
   "source": [
    "from assets.TokenBuilder import *\n",
    "from assets.Element import *\n",
    "import json"
   ]
  },
  {
   "cell_type": "code",
   "execution_count": 41,
   "metadata": {},
   "outputs": [],
   "source": [
    "def getTokenListFromFile(filepath):\n",
    "    with open(filepath) as data_file:\n",
    "        tokenString = data_file.read()\n",
    "    \n",
    "    raw = tokenString.split(\"\\n\")\n",
    "\n",
    "    splitted_elements = []\n",
    "    for raw_element in raw:\n",
    "        if len(raw_element) > 0:        \n",
    "            if raw_element.find(\" \") > -1:\n",
    "                elements = raw_element.split(\" \")\n",
    "                splitted_elements.extend(elements)\n",
    "            else:\n",
    "                splitted_elements.append(raw_element)     \n",
    "\n",
    "    processed = []\n",
    "    for element in splitted_elements:\n",
    "        if element != \"\":\n",
    "            if element.find(\",\") > -1:\n",
    "                element = element.replace(\",\", \"\")\n",
    "\n",
    "            processed.append(element)\n",
    "    \n",
    "    return processed"
   ]
  },
  {
   "cell_type": "code",
   "execution_count": 42,
   "metadata": {},
   "outputs": [
    {
     "data": {
      "text/plain": [
       "['body',\n",
       " '{',\n",
       " 'header',\n",
       " '{',\n",
       " 'logo-right',\n",
       " 'btn-inactive-white',\n",
       " 'btn-inactive-white',\n",
       " 'btn-inactive-white',\n",
       " '}',\n",
       " 'row',\n",
       " '{',\n",
       " 'quadruple',\n",
       " '{',\n",
       " 'small-title',\n",
       " 'text',\n",
       " 'btn-inactive-grey',\n",
       " '}',\n",
       " 'quadruple',\n",
       " '{',\n",
       " 'small-title',\n",
       " 'text',\n",
       " 'btn-inactive-grey',\n",
       " '}',\n",
       " 'double',\n",
       " '{',\n",
       " 'small-title',\n",
       " 'text',\n",
       " 'btn-inactive-black',\n",
       " '}',\n",
       " '}',\n",
       " '}']"
      ]
     },
     "execution_count": 42,
     "metadata": {},
     "output_type": "execute_result"
    }
   ],
   "source": [
    "getTokenListFromFile(\"token/complete_generation_99_04.10.2018_1538640301497.gui\")  "
   ]
  },
  {
   "cell_type": "code",
   "execution_count": 38,
   "metadata": {},
   "outputs": [],
   "source": []
  },
  {
   "cell_type": "code",
   "execution_count": 35,
   "metadata": {},
   "outputs": [
    {
     "data": {
      "text/plain": [
       "['',\n",
       " 'body {',\n",
       " 'header {',\n",
       " 'logo-right, btn-inactive-white, btn-inactive-white, btn-inactive-white',\n",
       " '}, ',\n",
       " 'row {',\n",
       " 'quadruple {',\n",
       " 'small-title, text, btn-inactive-grey',\n",
       " '}, ',\n",
       " 'quadruple {',\n",
       " 'small-title, text, btn-inactive-grey',\n",
       " '}, ',\n",
       " 'double {',\n",
       " 'small-title, text, btn-inactive-black',\n",
       " '}',\n",
       " '}',\n",
       " '}']"
      ]
     },
     "execution_count": 35,
     "metadata": {},
     "output_type": "execute_result"
    }
   ],
   "source": [
    "raw"
   ]
  },
  {
   "cell_type": "code",
   "execution_count": 40,
   "metadata": {},
   "outputs": [
    {
     "data": {
      "text/plain": [
       "['body',\n",
       " '{',\n",
       " 'header',\n",
       " '{',\n",
       " 'logo-right',\n",
       " 'btn-inactive-white',\n",
       " 'btn-inactive-white',\n",
       " 'btn-inactive-white',\n",
       " '}',\n",
       " 'row',\n",
       " '{',\n",
       " 'quadruple',\n",
       " '{',\n",
       " 'small-title',\n",
       " 'text',\n",
       " 'btn-inactive-grey',\n",
       " '}',\n",
       " 'quadruple',\n",
       " '{',\n",
       " 'small-title',\n",
       " 'text',\n",
       " 'btn-inactive-grey',\n",
       " '}',\n",
       " 'double',\n",
       " '{',\n",
       " 'small-title',\n",
       " 'text',\n",
       " 'btn-inactive-black',\n",
       " '}',\n",
       " '}',\n",
       " '}']"
      ]
     },
     "execution_count": 40,
     "metadata": {},
     "output_type": "execute_result"
    }
   ],
   "source": [
    "processed"
   ]
  },
  {
   "cell_type": "code",
   "execution_count": 28,
   "metadata": {},
   "outputs": [
    {
     "data": {
      "text/plain": [
       "['body',\n",
       " '{',\n",
       " 'header',\n",
       " '{',\n",
       " 'logo-right',\n",
       " 'btn-inactive-white',\n",
       " 'btn-inactive-white',\n",
       " 'btn-inactive-white',\n",
       " '}',\n",
       " 'row',\n",
       " '{',\n",
       " 'quadruple',\n",
       " '{',\n",
       " 'small-title',\n",
       " 'text',\n",
       " 'btn-inactive-grey',\n",
       " '}',\n",
       " 'quadruple',\n",
       " '{',\n",
       " 'small-title',\n",
       " 'text',\n",
       " 'btn-inactive-grey',\n",
       " '}',\n",
       " 'double',\n",
       " '{',\n",
       " 'small-title',\n",
       " 'text',\n",
       " 'btn-inactive-black',\n",
       " 'small-title',\n",
       " 'text',\n",
       " 'btn-inactive-black',\n",
       " 'small-title',\n",
       " 'text',\n",
       " 'btn-inactive-black',\n",
       " 'small-title',\n",
       " 'text',\n",
       " 'btn-inactive-black']"
      ]
     },
     "execution_count": 28,
     "metadata": {},
     "output_type": "execute_result"
    }
   ],
   "source": [
    "processed\n"
   ]
  },
  {
   "cell_type": "code",
   "execution_count": null,
   "metadata": {},
   "outputs": [],
   "source": []
  }
 ],
 "metadata": {
  "kernelspec": {
   "display_name": "Python 3",
   "language": "python",
   "name": "python3"
  },
  "language_info": {
   "codemirror_mode": {
    "name": "ipython",
    "version": 3
   },
   "file_extension": ".py",
   "mimetype": "text/x-python",
   "name": "python",
   "nbconvert_exporter": "python",
   "pygments_lexer": "ipython3",
   "version": "3.5.2"
  }
 },
 "nbformat": 4,
 "nbformat_minor": 2
}
